{
 "cells": [
  {
   "cell_type": "markdown",
   "metadata": {},
   "source": [
    "***\n",
    "*Nan-kuei Chen* <sup>1,2,3*</sup>| *Pei-Hsin Wu* <sup>4,5*</sup>"
   ]
  },
  {
   "cell_type": "markdown",
   "metadata": {
    "tags": [
     "popout"
    ]
   },
   "source": [
    "**Corespondence**: Nan-kuei Chen, PhD, 1127 E.James E. Rogers Way, P.O.Box 210020, Tuscon, AZ 85721-0020. \n",
    "Email: nkchen@email.arizona.edu"
   ]
  },
  {
   "cell_type": "markdown",
   "metadata": {},
   "source": [
    "<sup>1</sup> Department of Biomedical Engineering, University of Arizona, Tucson, Arizona\n",
    "<br>\n",
    "<sup>2</sup> The BIO5 Institute, University of Arizona, Tucson, Arizona\n",
    "<br>\n",
    "<sup>3</sup> Brain Imaging and Analysis Center, Duke University Medical Center, Durham, North Carolina\n",
    "<br>\n",
    "<sup>4</sup> Graduate Institute of Biomedical Electronics and Bioinformatics, National Taiwan University, Taipei, Taiwan\n",
    "<br>\n",
    "<sup>5</sup> Department of Radiology, University of Pennsylvania, Philadelphia, Pennsylvania"
   ]
  },
  {
   "cell_type": "markdown",
   "metadata": {},
   "source": [
    "**Purpose**: We report a new postprocessing procedure that uses Fourier‐domain data analyses to improve the accuracy and reliability of phase unwrapping for MRI data of low SNR. <br />\n",
    "**Methods**: The developed method first identifies the Fourier‐domain energy peak locations corresponding to different image‐domain areas from which a robust measurement of image‐domain phase gradients can be obtained even for MRI data of low SNR. The phase‐gradient information measured from critical brain regions using the above‐mentioned Fourier‐domain analysis is then combined with the conventional temporal‐domain or spatial‐domain phase‐unwrapping procedure to remove phase wraps. The developed method was tested with MRI data obtained from 30 healthy adult volunteers, and its performance was quantitatively evaluated. <br />\n",
    "**Results**: The developed Fourier‐domain analysis could robustly quantify imagedomain phase gradients even for MRI data with low SNR (e.g., SNR ≃ 2). Experimental results show that the Fourier‐domain analyses could further reduce phase wrap artifact in data produced by the conventional temporal‐domain or spatialdomain phase‐unwrapping procedures. <br />\n",
    "**Conclusions**: Our results demonstrate that the developed phase‐unwrapping method can reduce residual phase wraps resulting from conventional procedures in critical brain regions (e.g., near the air‐tissue interfaces) and should prove valuable for studies that require accurate measurements of MRI phase values, such as QSM, B<sub>0</sub> field mapping, and temperature mapping.\n",
    "<br />\n",
    "<br />\n",
    "*KEYWORDS* \n",
    "<br />\n",
    "*Field inhomogeneities, Fourier‐domain analysis, MRI, phase unwrapping*"
   ]
  }
 ],
 "metadata": {
  "kernelspec": {
   "display_name": "Python 3",
   "language": "python",
   "name": "python3"
  },
  "language_info": {
   "codemirror_mode": {
    "name": "ipython",
    "version": 3
   },
   "file_extension": ".py",
   "mimetype": "text/x-python",
   "name": "python",
   "nbconvert_exporter": "python",
   "pygments_lexer": "ipython3",
   "version": "3.6.9"
  },
  "latex_envs": {
   "LaTeX_envs_menu_present": true,
   "autoclose": false,
   "autocomplete": true,
   "bibliofile": "biblio.bib",
   "cite_by": "apalike",
   "current_citInitial": 1,
   "eqLabelWithNumbers": true,
   "eqNumInitial": 1,
   "hotkeys": {
    "equation": "Ctrl-E",
    "itemize": "Ctrl-I"
   },
   "labels_anchors": false,
   "latex_user_defs": false,
   "report_style_numbering": false,
   "user_envs_cfg": false
  },
  "varInspector": {
   "cols": {
    "lenName": 16,
    "lenType": 16,
    "lenVar": 40
   },
   "kernels_config": {
    "python": {
     "delete_cmd_postfix": "",
     "delete_cmd_prefix": "del ",
     "library": "var_list.py",
     "varRefreshCmd": "print(var_dic_list())"
    },
    "r": {
     "delete_cmd_postfix": ") ",
     "delete_cmd_prefix": "rm(",
     "library": "var_list.r",
     "varRefreshCmd": "cat(var_dic_list()) "
    }
   },
   "types_to_exclude": [
    "module",
    "function",
    "builtin_function_or_method",
    "instance",
    "_Feature"
   ],
   "window_display": false
  }
 },
 "nbformat": 4,
 "nbformat_minor": 4
}
